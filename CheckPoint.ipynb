{
 "cells": [
  {
   "cell_type": "markdown",
   "metadata": {
    "id": "AsDydV59EnBQ"
   },
   "source": [
    "## Aprendizagem de máquina\n",
    "\n",
    "### Objetivos\n",
    "\n",
    "  - Avaliar os conceitos de aprendizado de maquina aprendidos no curso\n"
   ]
  },
  {
   "cell_type": "markdown",
   "metadata": {
    "id": "_41x3wQMEnBY"
   },
   "source": [
    "# Desafio\n",
    "\n",
    "Você foi contratado por uma empresa inovadora do ramo imobiliario como `QuintoAndar, Loft, Terraz, grupo Zap (ZAP, Viva Real, DataZAP, FipeZAP, SuaHouse, Geoimóvel, Sub100 e Conecta Imobi) ou Imobi Conference`. O seu desafio está no apio à tomada de decisão baseada em dados (empresa data driven). \n",
    "\n",
    "Nesse sentido, use a base de dados **aptos.csv** para realizar a descoberta do conhecimento e responder a pergunta: \n",
    "\n",
    "**`Quanto vale um apartamento de 65m2 com 2 quartos, 2 vagas, reformado no Centro?`**\n"
   ]
  },
  {
   "cell_type": "markdown",
   "metadata": {
    "id": "CTGvPWQZEnBZ"
   },
   "source": [
    "### Orientações\n",
    "\n",
    "Siga as instruções, completando e construindo os algoritmos necessários.\n",
    "\n",
    "Nas celulas` Seu Código aqui...` significa que é necessário realizar a implementação de algum código. Utilize quantos blocos(células) julgar necessário para criar o código.\n",
    "\n",
    "Nas celulas `Responda` significa que é nessário uma resposta clara e objetiva (pode ser por texto, código, gráfico, imagem...) para a pergunta."
   ]
  },
  {
   "cell_type": "markdown",
   "metadata": {
    "id": "XemQnDtgEnBa"
   },
   "source": [
    "## Rubrica para avaliação\n",
    "    \n",
    "Os critérios de avaliação do projeto segue conforme a rubrica.\n",
    "\n",
    "- R1: Exploração de Dados (Até 2 pontos)\n",
    "- R2: Análise Descritiva de Dados (Até 2 pontos)\n",
    "- R3: Desenvolvimento do Modelo (Até 2 pontos)\n",
    "- R4: Treinamento e Teste do Modelo (Até 2 pontos)\n",
    "- R5: Conclusões Finais (Até 2 pontos)\n",
    "\n",
    "**Nota_final = R1 + R2 + R3 + R4 + R5**"
   ]
  },
  {
   "cell_type": "markdown",
   "metadata": {
    "id": "Jrw76pbZEnBb"
   },
   "source": [
    "# 1. Exploração de Dados\n",
    "\n",
    "Carregue o dataset e faça uma inspeção nas 15 primeiras linhas para identificação básica dos atributos.\n"
   ]
  },
  {
   "cell_type": "code",
   "execution_count": 1,
   "metadata": {
    "id": "eboasUCqEnBc"
   },
   "outputs": [],
   "source": [
    "# Inicializção das bibliotecas\n",
    "import seaborn as sns\n",
    "import matplotlib.pyplot as plt\n",
    "import pandas as pd\n",
    "import numpy as np\n",
    "\n",
    "%matplotlib inline"
   ]
  },
  {
   "cell_type": "code",
   "execution_count": 2,
   "metadata": {
    "id": "7v12O1ZgEnBe"
   },
   "outputs": [
    {
     "data": {
      "text/html": [
       "<div>\n",
       "<style scoped>\n",
       "    .dataframe tbody tr th:only-of-type {\n",
       "        vertical-align: middle;\n",
       "    }\n",
       "\n",
       "    .dataframe tbody tr th {\n",
       "        vertical-align: top;\n",
       "    }\n",
       "\n",
       "    .dataframe thead th {\n",
       "        text-align: right;\n",
       "    }\n",
       "</style>\n",
       "<table border=\"1\" class=\"dataframe\">\n",
       "  <thead>\n",
       "    <tr style=\"text-align: right;\">\n",
       "      <th></th>\n",
       "      <th>metros</th>\n",
       "      <th>valor</th>\n",
       "      <th>quartos</th>\n",
       "      <th>vagas</th>\n",
       "      <th>reformado</th>\n",
       "      <th>bairro</th>\n",
       "    </tr>\n",
       "  </thead>\n",
       "  <tbody>\n",
       "    <tr>\n",
       "      <th>0</th>\n",
       "      <td>107</td>\n",
       "      <td>560</td>\n",
       "      <td>3</td>\n",
       "      <td>2</td>\n",
       "      <td>0</td>\n",
       "      <td>Vila Lusitania</td>\n",
       "    </tr>\n",
       "    <tr>\n",
       "      <th>1</th>\n",
       "      <td>107</td>\n",
       "      <td>555</td>\n",
       "      <td>3</td>\n",
       "      <td>2</td>\n",
       "      <td>1</td>\n",
       "      <td>Vila Lusitania</td>\n",
       "    </tr>\n",
       "    <tr>\n",
       "      <th>2</th>\n",
       "      <td>49</td>\n",
       "      <td>196</td>\n",
       "      <td>2</td>\n",
       "      <td>1</td>\n",
       "      <td>0</td>\n",
       "      <td>Ferrazopolis</td>\n",
       "    </tr>\n",
       "    <tr>\n",
       "      <th>3</th>\n",
       "      <td>104</td>\n",
       "      <td>515</td>\n",
       "      <td>3</td>\n",
       "      <td>2</td>\n",
       "      <td>1</td>\n",
       "      <td>Centro</td>\n",
       "    </tr>\n",
       "    <tr>\n",
       "      <th>4</th>\n",
       "      <td>92</td>\n",
       "      <td>560</td>\n",
       "      <td>3</td>\n",
       "      <td>2</td>\n",
       "      <td>1</td>\n",
       "      <td>Vila Lusitania</td>\n",
       "    </tr>\n",
       "    <tr>\n",
       "      <th>5</th>\n",
       "      <td>51</td>\n",
       "      <td>249</td>\n",
       "      <td>2</td>\n",
       "      <td>1</td>\n",
       "      <td>0</td>\n",
       "      <td>Taboao</td>\n",
       "    </tr>\n",
       "    <tr>\n",
       "      <th>6</th>\n",
       "      <td>140</td>\n",
       "      <td>635</td>\n",
       "      <td>4</td>\n",
       "      <td>3</td>\n",
       "      <td>1</td>\n",
       "      <td>Centro</td>\n",
       "    </tr>\n",
       "    <tr>\n",
       "      <th>7</th>\n",
       "      <td>50</td>\n",
       "      <td>210</td>\n",
       "      <td>2</td>\n",
       "      <td>1</td>\n",
       "      <td>1</td>\n",
       "      <td>Demarchi</td>\n",
       "    </tr>\n",
       "    <tr>\n",
       "      <th>8</th>\n",
       "      <td>93</td>\n",
       "      <td>450</td>\n",
       "      <td>3</td>\n",
       "      <td>2</td>\n",
       "      <td>0</td>\n",
       "      <td>Baeta Neves</td>\n",
       "    </tr>\n",
       "    <tr>\n",
       "      <th>9</th>\n",
       "      <td>107</td>\n",
       "      <td>425</td>\n",
       "      <td>3</td>\n",
       "      <td>2</td>\n",
       "      <td>1</td>\n",
       "      <td>Rudge Ramos</td>\n",
       "    </tr>\n",
       "    <tr>\n",
       "      <th>10</th>\n",
       "      <td>100</td>\n",
       "      <td>422</td>\n",
       "      <td>3</td>\n",
       "      <td>2</td>\n",
       "      <td>1</td>\n",
       "      <td>Baeta Neves</td>\n",
       "    </tr>\n",
       "    <tr>\n",
       "      <th>11</th>\n",
       "      <td>64</td>\n",
       "      <td>250</td>\n",
       "      <td>2</td>\n",
       "      <td>1</td>\n",
       "      <td>1</td>\n",
       "      <td>Pauliceia</td>\n",
       "    </tr>\n",
       "    <tr>\n",
       "      <th>12</th>\n",
       "      <td>65</td>\n",
       "      <td>350</td>\n",
       "      <td>2</td>\n",
       "      <td>2</td>\n",
       "      <td>1</td>\n",
       "      <td>Centro</td>\n",
       "    </tr>\n",
       "    <tr>\n",
       "      <th>13</th>\n",
       "      <td>71</td>\n",
       "      <td>303</td>\n",
       "      <td>3</td>\n",
       "      <td>1</td>\n",
       "      <td>0</td>\n",
       "      <td>Centro</td>\n",
       "    </tr>\n",
       "    <tr>\n",
       "      <th>14</th>\n",
       "      <td>64</td>\n",
       "      <td>294</td>\n",
       "      <td>3</td>\n",
       "      <td>1</td>\n",
       "      <td>0</td>\n",
       "      <td>Planalto</td>\n",
       "    </tr>\n",
       "  </tbody>\n",
       "</table>\n",
       "</div>"
      ],
      "text/plain": [
       "    metros  valor  quartos  vagas  reformado          bairro\n",
       "0      107    560        3      2          0  Vila Lusitania\n",
       "1      107    555        3      2          1  Vila Lusitania\n",
       "2       49    196        2      1          0    Ferrazopolis\n",
       "3      104    515        3      2          1          Centro\n",
       "4       92    560        3      2          1  Vila Lusitania\n",
       "5       51    249        2      1          0          Taboao\n",
       "6      140    635        4      3          1          Centro\n",
       "7       50    210        2      1          1        Demarchi\n",
       "8       93    450        3      2          0     Baeta Neves\n",
       "9      107    425        3      2          1     Rudge Ramos\n",
       "10     100    422        3      2          1     Baeta Neves\n",
       "11      64    250        2      1          1       Pauliceia\n",
       "12      65    350        2      2          1          Centro\n",
       "13      71    303        3      1          0          Centro\n",
       "14      64    294        3      1          0        Planalto"
      ]
     },
     "execution_count": 2,
     "metadata": {},
     "output_type": "execute_result"
    }
   ],
   "source": [
    "# Lê e carrega o arquivo para a memória\n",
    "df = pd.read_csv(\"aptos.csv\")\n",
    "\n",
    "# Conhecendo os atributos básicos através das 15 primeiras linhas.\n",
    "df.head(15)"
   ]
  },
  {
   "cell_type": "code",
   "execution_count": 3,
   "metadata": {},
   "outputs": [
    {
     "data": {
      "text/plain": [
       "\"dummy_features = pd.get_dummies(df['bairro'])\\npd.concat([df, dummy_features], axis = 1)\""
      ]
     },
     "execution_count": 3,
     "metadata": {},
     "output_type": "execute_result"
    }
   ],
   "source": [
    "#Tentativa falha em tentar usar a coluna categórica bairro, \n",
    "#transformando-a em numérica para o algorítimo de regressão.\n",
    "'''dummy_features = pd.get_dummies(df['bairro'])\n",
    "pd.concat([df, dummy_features], axis = 1)'''"
   ]
  },
  {
   "cell_type": "code",
   "execution_count": 4,
   "metadata": {},
   "outputs": [
    {
     "data": {
      "text/plain": [
       "array(['Vila Lusitania', 'Ferrazopolis', 'Centro', 'Taboao', 'Demarchi',\n",
       "       'Baeta Neves', 'Rudge Ramos', 'Pauliceia', 'Planalto', 'Assuncao',\n",
       "       'Independencia', 'Jardim do Mar', 'Nova Petropolis',\n",
       "       'Jordanopolis', 'Santa Teresinha', 'Iraja', 'Piraporinha'],\n",
       "      dtype=object)"
      ]
     },
     "execution_count": 4,
     "metadata": {},
     "output_type": "execute_result"
    }
   ],
   "source": [
    "df.bairro.unique()"
   ]
  },
  {
   "cell_type": "code",
   "execution_count": 5,
   "metadata": {},
   "outputs": [
    {
     "data": {
      "text/html": [
       "<div>\n",
       "<style scoped>\n",
       "    .dataframe tbody tr th:only-of-type {\n",
       "        vertical-align: middle;\n",
       "    }\n",
       "\n",
       "    .dataframe tbody tr th {\n",
       "        vertical-align: top;\n",
       "    }\n",
       "\n",
       "    .dataframe thead th {\n",
       "        text-align: right;\n",
       "    }\n",
       "</style>\n",
       "<table border=\"1\" class=\"dataframe\">\n",
       "  <thead>\n",
       "    <tr style=\"text-align: right;\">\n",
       "      <th></th>\n",
       "      <th>metros</th>\n",
       "      <th>valor</th>\n",
       "      <th>quartos</th>\n",
       "      <th>vagas</th>\n",
       "      <th>reformado</th>\n",
       "      <th>bairro</th>\n",
       "    </tr>\n",
       "  </thead>\n",
       "  <tbody>\n",
       "    <tr>\n",
       "      <th>0</th>\n",
       "      <td>107</td>\n",
       "      <td>560</td>\n",
       "      <td>3</td>\n",
       "      <td>2</td>\n",
       "      <td>0</td>\n",
       "      <td>Vila Lusitania</td>\n",
       "    </tr>\n",
       "    <tr>\n",
       "      <th>1</th>\n",
       "      <td>107</td>\n",
       "      <td>555</td>\n",
       "      <td>3</td>\n",
       "      <td>2</td>\n",
       "      <td>1</td>\n",
       "      <td>Vila Lusitania</td>\n",
       "    </tr>\n",
       "    <tr>\n",
       "      <th>2</th>\n",
       "      <td>49</td>\n",
       "      <td>196</td>\n",
       "      <td>2</td>\n",
       "      <td>1</td>\n",
       "      <td>0</td>\n",
       "      <td>Ferrazopolis</td>\n",
       "    </tr>\n",
       "    <tr>\n",
       "      <th>3</th>\n",
       "      <td>104</td>\n",
       "      <td>515</td>\n",
       "      <td>3</td>\n",
       "      <td>2</td>\n",
       "      <td>1</td>\n",
       "      <td>Centro</td>\n",
       "    </tr>\n",
       "    <tr>\n",
       "      <th>4</th>\n",
       "      <td>92</td>\n",
       "      <td>560</td>\n",
       "      <td>3</td>\n",
       "      <td>2</td>\n",
       "      <td>1</td>\n",
       "      <td>Vila Lusitania</td>\n",
       "    </tr>\n",
       "  </tbody>\n",
       "</table>\n",
       "</div>"
      ],
      "text/plain": [
       "   metros  valor  quartos  vagas  reformado          bairro\n",
       "0     107    560        3      2          0  Vila Lusitania\n",
       "1     107    555        3      2          1  Vila Lusitania\n",
       "2      49    196        2      1          0    Ferrazopolis\n",
       "3     104    515        3      2          1          Centro\n",
       "4      92    560        3      2          1  Vila Lusitania"
      ]
     },
     "execution_count": 5,
     "metadata": {},
     "output_type": "execute_result"
    }
   ],
   "source": [
    "df.head()"
   ]
  },
  {
   "cell_type": "markdown",
   "metadata": {
    "id": "Vwok27kVEnBf"
   },
   "source": [
    "### `Pergunta:` Apresente uma breve descrição do significado de cada atributo:\n",
    "\n",
    "Exemplo:\n",
    "- Idade: Idade em anos da pessoa\n",
    "- Marca: fabricante de carros\n",
    "- Combustivel: tipo de combustível (gasolina, disel...)\n",
    "- Especie: Tipo de flor iris-setosa, virginica... (Variável Alvo)\n",
    "\n",
    "\n",
    "\n",
    "\n"
   ]
  },
  {
   "cell_type": "markdown",
   "metadata": {
    "id": "S48qZORfEnBg"
   },
   "source": [
    "**Resposta:**\n",
    "\n",
    "-   Metros: Tamanho do apartamento em metros quadrados.\n",
    "-   Valor: Preço do imóvel, valor em mil reais (ex: 560, quinhentos e sessenta mil reais).\n",
    "-   Quartos: Quantidade de quartos que o apartamento possui.\n",
    "-   Vagas: Quantidade de vagas para carros.\n",
    "-   Reformado: Informa se o apartamento já foi reformado ou não (0 - não foi reformado, 1 - foi reformado).\n",
    "-   Bairro: Bairro em que o apartamento está localizado."
   ]
  },
  {
   "cell_type": "markdown",
   "metadata": {
    "id": "VBQjnm8vEnBh"
   },
   "source": [
    "**Pergunta:** Cite 2 cenários que podem fazer sentido na leitura dos dados apresentados.\n",
    "\n",
    "Exemplo: \n",
    "- Eu acho que o preço da gasolina sobe com o preço do petróleo. \n",
    "- Eu acho que na média homens são mais altos que mulheres na mesma faixa etaria.  "
   ]
  },
  {
   "cell_type": "markdown",
   "metadata": {
    "id": "Zp80G6hHEnBi"
   },
   "source": [
    "**Resposta:**\n",
    "\n",
    "1.  Quanto maior o número de quartos e vagas, maior o valor do apartamento.\n",
    "2.  Na média, apartamentos com maior área tendem a ser mais caros."
   ]
  },
  {
   "cell_type": "markdown",
   "metadata": {
    "id": "VlNUKBMgEnBj"
   },
   "source": [
    "## 2. Análise descritiva de dados\n",
    "\n",
    "Faça uma análise exploratória dos dados. Utilize-se de gráficos e tabelas auxiliares, faça correlações entre os atributos.... Com o objetivo validar as afirmações levantadas acima."
   ]
  },
  {
   "cell_type": "code",
   "execution_count": 6,
   "metadata": {
    "id": "apflr7fcEnBk"
   },
   "outputs": [
    {
     "data": {
      "image/png": "[encoded data removed]",
      "text/plain": [
       "<Figure size 1080x1080 with 6 Axes>"
      ]
     },
     "metadata": {
      "needs_background": "light"
     },
     "output_type": "display_data"
    }
   ],
   "source": [
    "df.hist(bins=100, figsize=(15, 15))\n",
    "plt.show()"
   ]
  },
  {
   "cell_type": "code",
   "execution_count": 7,
   "metadata": {},
   "outputs": [
    {
     "data": {
      "image/png": "[encoded data removed]",
      "text/plain": [
       "<Figure size 1080x1080 with 25 Axes>"
      ]
     },
     "metadata": {
      "needs_background": "light"
     },
     "output_type": "display_data"
    }
   ],
   "source": [
    "df.plot(kind='box', subplots=True, layout=(5,5), sharex=False, sharey=False, figsize=(15, 15))\n",
    "plt.show()"
   ]
  },
  {
   "cell_type": "code",
   "execution_count": 8,
   "metadata": {
    "id": "md1hjlgxEnBk"
   },
   "outputs": [
    {
     "data": {
      "image/png": "[encoded data removed]",
      "text/plain": [
       "<Figure size 432x288 with 2 Axes>"
      ]
     },
     "metadata": {
      "needs_background": "light"
     },
     "output_type": "display_data"
    }
   ],
   "source": [
    "cols = ['metros', 'valor', 'quartos','vagas','reformado']\n",
    "corr_matx = df[cols].corr()\n",
    "heatmap = sns.heatmap(corr_matx,cbar=True,annot=True,square=True,fmt='.2f',annot_kws={'size': 15},yticklabels=cols,xticklabels=cols,cmap='Dark2')"
   ]
  },
  {
   "cell_type": "code",
   "execution_count": 9,
   "metadata": {},
   "outputs": [
    {
     "data": {
      "text/plain": [
       "<AxesSubplot:xlabel='metros', ylabel='valor'>"
      ]
     },
     "execution_count": 9,
     "metadata": {},
     "output_type": "execute_result"
    },
    {
     "data": {
      "image/png": "[encoded data removed]",
      "text/plain": [
       "<Figure size 432x288 with 1 Axes>"
      ]
     },
     "metadata": {
      "needs_background": "light"
     },
     "output_type": "display_data"
    }
   ],
   "source": [
    "df.plot.scatter('metros', 'valor')"
   ]
  },
  {
   "cell_type": "markdown",
   "metadata": {},
   "source": [
    "valores:\n",
    " - 0.9 a 1 indica uma correlação muito forte. **Metros x Valor (0.92)**"
   ]
  },
  {
   "cell_type": "markdown",
   "metadata": {
    "id": "QFMnZ_R5EnBl"
   },
   "source": [
    "### __(BONUS: 1 ponto extra.)__ Análise de Outliers\n",
    "*Esse é um ponto extra, faça se quiser...\n",
    "\n",
    "Realize a análise e o tratamento de **outliers**, como referência para estudo:\n",
    "\n",
    "* [link1](https://machinelearningmastery.com/model-based-outlier-detection-and-removal-in-python/)\n",
    "* [link2](https://towardsdatascience.com/4-machine-learning-techniques-for-outlier-detection-in-python-21e9cfacb81d)\n",
    "* [link3](https://minerandodados.com.br/tratando-outliers-python/)\n",
    "\n",
    "**Pergunta:** Foram localizados outliers? Qual o método de análise adotado? Se existe, como os dados foram tratados (foram removidos ou mantidos)? "
   ]
  },
  {
   "cell_type": "markdown",
   "metadata": {},
   "source": [
    "**Resposta:**\n",
    "\n",
    "Foram localizados outliers através do método de bloxplot, que mostra os outliers através da representação de uma \"bolinha\" no gráfico, porém os dados foram mantidos.\n"
   ]
  },
  {
   "cell_type": "markdown",
   "metadata": {
    "id": "aEBq3jZKEnBl"
   },
   "source": [
    "## 3. Desenvolvimento do Modelo"
   ]
  },
  {
   "cell_type": "markdown",
   "metadata": {
    "id": "wW2R15MjEnBm"
   },
   "source": [
    "**Pergunta:** O conjunto de dados indica a aplicação de qual modelo de aprendizagem de maquina para determinação do valor de um imóvel? Por que ? "
   ]
  },
  {
   "cell_type": "markdown",
   "metadata": {
    "id": "qV22-xMpEnBm"
   },
   "source": [
    "**Resposta:**\n",
    "\n",
    "    [ ] Aprendizado por reforço\n",
    "    [X] Aprendizado supervisionado\n",
    "    [ ] Aprendizado não supervisionado"
   ]
  },
  {
   "cell_type": "markdown",
   "metadata": {
    "id": "oijxNQnWEnBn"
   },
   "source": [
    "**Pergunta:** Qual a técnica sugerida para este projeto?"
   ]
  },
  {
   "cell_type": "markdown",
   "metadata": {
    "id": "7gfXFr3cEnBn"
   },
   "source": [
    "**Resposta:**\n",
    "\n",
    "    [X] Regressão\n",
    "    [ ] Classificação\n",
    "    [ ] Clusterização"
   ]
  },
  {
   "cell_type": "markdown",
   "metadata": {
    "id": "GCNZREN8EnBn"
   },
   "source": [
    "**Pergunta:** Escolha 2 modelos de algoritmos para testar a performance de cada um deles."
   ]
  },
  {
   "cell_type": "markdown",
   "metadata": {
    "id": "-JaS9wt1EnBo"
   },
   "source": [
    "**Resposta:**\n",
    "\n",
    "1. Algoritimo de Regressão Linear.\n",
    "2. Algoritimo de Regressão Polinomial."
   ]
  },
  {
   "cell_type": "markdown",
   "metadata": {
    "id": "xwiwcazSEnBo"
   },
   "source": [
    "__(BONUS: 1 ponto extra.)__ **Pergunta:** Explique como cada algoritmo funciona.\n"
   ]
  },
  {
   "cell_type": "markdown",
   "metadata": {
    "id": "3d2zeM5MEnBo"
   },
   "source": [
    "**Resposta:**\n",
    "\n",
    "1. Basicamente, o que o algoritmo de regressão linear faz é ajustar várias retas nos pontos de dados e retornar a reta que resulta no menor erro. Tudo isso em uma equação matemática.\n",
    "2. A regressão polinomial é uma forma de regressão linear e  vem para resolver um \"problema\" intrínseco na regresão linear, que é justamente a linearidade e que nem sempre é tão precisa, porém teoricamente podemos aproximar qualquer função com um polinômio, isso é a regressão polinomial."
   ]
  },
  {
   "cell_type": "markdown",
   "metadata": {
    "id": "GCyIFM2-EnBp"
   },
   "source": [
    "## 4. Treinamento e teste do modelo"
   ]
  },
  {
   "cell_type": "markdown",
   "metadata": {
    "id": "VkZdTzXcEnBp"
   },
   "source": [
    "Crie um subset dos dados apenas com os atributos que serão utilizados para o treinameno e teste do modelo. Divida o subset em conjunto de treinamento e teste."
   ]
  },
  {
   "cell_type": "code",
   "execution_count": 10,
   "metadata": {
    "id": "HzfFs5RSEnBp"
   },
   "outputs": [
    {
     "name": "stdout",
     "output_type": "stream",
     "text": [
      "Formato das tabelas de dados (100, 4) e saidas (100,)\n",
      "(80, 4)\n",
      "(20, 4)\n",
      "(80,)\n",
      "(20,)\n"
     ]
    }
   ],
   "source": [
    "# Vamos treinar nosso modelo com 4 atributos.\n",
    "# para predizer o valor de saida\n",
    "X = df[['metros', 'quartos', 'vagas', 'reformado']]  #faltou bairro\n",
    "\n",
    "Y = df['valor']\n",
    "print(f\"Formato das tabelas de dados {X.shape} e saidas {Y.shape}\")\n",
    "\n",
    "# Separamos 20% para o teste\n",
    "from sklearn.model_selection import train_test_split\n",
    "\n",
    "X_treino, X_teste, Y_treino, Y_teste = train_test_split(X, Y, test_size=0.2)\n",
    "\n",
    "print(X_treino.shape)\n",
    "print(X_teste.shape)\n",
    "print(Y_treino.shape)\n",
    "print(Y_teste.shape)"
   ]
  },
  {
   "cell_type": "markdown",
   "metadata": {
    "id": "zAmwkQ8fEnBp"
   },
   "source": [
    "Faça o treinamento e teste dos 2 algoritmos escolhidos. Utilize uma métrica (ex. R2-score, RMSE e MAE...) para avaliar a performance dos modelos."
   ]
  },
  {
   "cell_type": "markdown",
   "metadata": {
    "id": "FIgJ9zIpEnBq"
   },
   "source": [
    "### Algoritmo 1"
   ]
  },
  {
   "cell_type": "code",
   "execution_count": 22,
   "metadata": {
    "id": "NHdh-Lw2EnBq"
   },
   "outputs": [
    {
     "name": "stdout",
     "output_type": "stream",
     "text": [
      "Predição usando regressão, retorna valores continuos: [530.21637125 249.38872487 334.6259739  423.62691406 483.25127953\n",
      " 423.0050646  450.81100995 558.0223166  198.41115839 846.0042794\n",
      " 207.67980684 783.23807227 342.40213979 263.29169755 530.21637125\n",
      " 230.85142797 669.24609801 437.52988674 342.40213979 846.0042794 ]\n"
     ]
    }
   ],
   "source": [
    "# Importa a biblioteca\n",
    "from sklearn.linear_model import LinearRegression\n",
    "from sklearn.metrics import mean_squared_error\n",
    "\n",
    "# Cria o modelo de regressão \n",
    "lin_model = LinearRegression()\n",
    "\n",
    "# Cria o modelo de machine learning\n",
    "lin_model.fit(X_treino, Y_treino)\n",
    "\n",
    "# Para obter as previsões, basta chamar o método predict()\n",
    "y_teste_predito = lin_model.predict(X_teste)\n",
    "y_treino_predito = lin_model.predict(X_treino)\n",
    "print(\"Predição usando regressão, retorna valores continuos: {}\".format(y_teste_predito))"
   ]
  },
  {
   "cell_type": "code",
   "execution_count": 23,
   "metadata": {},
   "outputs": [
    {
     "name": "stdout",
     "output_type": "stream",
     "text": [
      "Soma dos Erros ao Quadrado (SSE): 123409 \n",
      "Erro Quadrático Médio (MSE): 6170.43\n",
      "Erro Médio Absoluto (MAE): 55.40\n",
      "Erro Médio Absoluto do Treino (MAE): 48.72\n",
      "Raiz do Erro Quadrático Médio (RMSE): 78.55 \n",
      "R2-score: 0.84\n"
     ]
    }
   ],
   "source": [
    "from sklearn.metrics import r2_score, mean_squared_error,mean_absolute_error\n",
    "import numpy as np\n",
    "\n",
    "print(\"Soma dos Erros ao Quadrado (SSE): %2.f \" % np.sum((y_teste_predito - Y_teste)**2))\n",
    "print(\"Erro Quadrático Médio (MSE): %.2f\" % mean_squared_error(Y_teste, y_teste_predito))\n",
    "print(\"Erro Médio Absoluto (MAE): %.2f\" % mean_absolute_error(Y_teste, y_teste_predito))\n",
    "print(\"Erro Médio Absoluto do Treino (MAE): %.2f\" % mean_absolute_error(Y_treino, y_treino_predito))\n",
    "print (\"Raiz do Erro Quadrático Médio (RMSE): %.2f \" % np.sqrt(mean_squared_error(Y_teste, y_teste_predito)))\n",
    "print(\"R2-score: %.2f\" % r2_score(y_teste_predito , Y_teste) )"
   ]
  },
  {
   "cell_type": "code",
   "execution_count": 13,
   "metadata": {},
   "outputs": [
    {
     "data": {
      "text/plain": [
       "Text(0, 0.5, 'Valor Predito')"
      ]
     },
     "execution_count": 13,
     "metadata": {},
     "output_type": "execute_result"
    },
    {
     "data": {
      "image/png": "[encoded data removed]",
      "text/plain": [
       "<Figure size 432x288 with 1 Axes>"
      ]
     },
     "metadata": {
      "needs_background": "light"
     },
     "output_type": "display_data"
    }
   ],
   "source": [
    "plt.scatter(Y_teste,y_teste_predito)\n",
    "plt.xlabel('Valor Real')\n",
    "plt.ylabel('Valor Predito')"
   ]
  },
  {
   "cell_type": "markdown",
   "metadata": {
    "id": "EKn6sHPLEnBq"
   },
   "source": [
    "### Algoritmo 2"
   ]
  },
  {
   "cell_type": "code",
   "execution_count": 30,
   "metadata": {
    "id": "rhYgY1pAEnBq"
   },
   "outputs": [
    {
     "name": "stdout",
     "output_type": "stream",
     "text": [
      "Soma dos Erros ao Quadrado (SSE): 254143 \n",
      "Erro Quadrático Médio (MSE): 3176.79\n",
      "Erro Médio Absoluto (MAE): 45.86\n",
      "Erro Médio Absoluto do Treino (MAE): 45.86\n",
      "Raiz do Erro Quadrático Médio (RMSE): 56.36 \n",
      "R2-score: 0.88\n"
     ]
    },
    {
     "data": {
      "image/png": "[encoded data removed]",
      "text/plain": [
       "<Figure size 432x288 with 1 Axes>"
      ]
     },
     "metadata": {
      "needs_background": "light"
     },
     "output_type": "display_data"
    }
   ],
   "source": [
    "# importa feature polinomial\n",
    "from sklearn.preprocessing import PolynomialFeatures\n",
    "\n",
    "#----É aqui que o seu código muda\n",
    "\n",
    "# Chama a função definindo o grau do polinomio e aplica o modelo\n",
    "x = X_treino.iloc[:, 0:1].values \n",
    "y = Y_treino\n",
    "\n",
    "\n",
    "polynomial_features= PolynomialFeatures(degree=10)\n",
    "x_poly = polynomial_features.fit_transform(x)\n",
    "\n",
    "#----Pronto agora é tudo como era antes, com regressão linear\n",
    "\n",
    "\n",
    "model = LinearRegression()\n",
    "model.fit(x_poly, y)\n",
    "y_poly_pred = model.predict(x_poly)\n",
    "\n",
    "# Métrica de avaliação do modelo\n",
    "print(\"Soma dos Erros ao Quadrado (SSE): %2.f \" % np.sum((y_poly_pred - y)**2))\n",
    "print(\"Erro Quadrático Médio (MSE): %.2f\" % mean_squared_error(y,y_poly_pred))\n",
    "print(\"Erro Médio Absoluto (MAE): %.2f\" % mean_absolute_error(y, y_poly_pred))\n",
    "print(\"Erro Médio Absoluto do Treino (MAE): %.2f\" % mean_absolute_error(y, y_poly_pred))\n",
    "print (\"Raiz do Erro Quadrático Médio (RMSE): %.2f \" % np.sqrt(mean_squared_error(y, y_poly_pred)))\n",
    "print(\"R2-score: %.2f\" % r2_score(y,y_poly_pred) )\n",
    "\n",
    "\n",
    "plt.scatter(x, y, s=10)\n",
    "\n",
    "plt.plot(x, y_poly_pred, color='m')\n",
    "plt.show()"
   ]
  },
  {
   "cell_type": "markdown",
   "metadata": {
    "id": "iMhimFG6EnBq"
   },
   "source": [
    "Sumarize na tabela abaixo os resultados obtidos para os conjuntos de dados de treino e de teste"
   ]
  },
  {
   "cell_type": "markdown",
   "metadata": {
    "id": "Emdn0twUEnBr"
   },
   "source": [
    "**Resposta:**\n",
    "\n",
    "|    | algoritmo1 | algoritmo2 |\n",
    "|:---:|:---:|:---:|\n",
    "| treino | 48.72 | 45.86 |\n",
    "| teste  | 55.40 | 45.86 |"
   ]
  },
  {
   "cell_type": "markdown",
   "metadata": {
    "id": "6GRyUOHQEnBr"
   },
   "source": [
    "**Pergunta:** Qual dos algoritmos obteve um resultado melhor? Justifique\n",
    "\n",
    "**Resposta:** O algoritimo de regressão polinomial se adequou melhor, logo teve melhor resultado."
   ]
  },
  {
   "cell_type": "markdown",
   "metadata": {
    "id": "CSV86VhSEnBr"
   },
   "source": [
    "## Modelo de produção: Teste com novos dados\n",
    "\n",
    "Use seu modelo treinado para determinar: \n",
    "\n",
    "**`Quanto vale um apartamento de 65m2 com 2 quartos, 2 vagas, reformado no Centro?`**"
   ]
  },
  {
   "cell_type": "code",
   "execution_count": 29,
   "metadata": {
    "id": "NC-SxVDeEnBr"
   },
   "outputs": [
    {
     "name": "stderr",
     "output_type": "stream",
     "text": [
      "/home/carlos/.local/lib/python3.9/site-packages/sklearn/base.py:450: UserWarning: X does not have valid feature names, but LinearRegression was fitted with feature names\n",
      "  warnings.warn(\n"
     ]
    },
    {
     "data": {
      "text/plain": [
       "array([342.40213979])"
      ]
     },
     "execution_count": 29,
     "metadata": {},
     "output_type": "execute_result"
    }
   ],
   "source": [
    "lin_model.predict([[65, 2, 2, 1]])\n",
    "\n"
   ]
  },
  {
   "cell_type": "markdown",
   "metadata": {},
   "source": [
    "**Resposta:** o modelo previu que um apartamento com essas características custaria algo em torno de 342 mil reais."
   ]
  },
  {
   "cell_type": "markdown",
   "metadata": {
    "id": "E63qRRafEnBs"
   },
   "source": [
    "## 5. Conclusões finais\n",
    "\n",
    "Ufa!!... Chegamos ao final. Parabéns! De forma simplificada e completa, passamos por todas as etapas de um projeto de aprendizado de maquina. Outras etapas podem ser adicionadas no tratamento dos dados e desenvolvimento do modelo.\n"
   ]
  },
  {
   "cell_type": "markdown",
   "metadata": {
    "id": "FDQj8s1BEnBs"
   },
   "source": [
    "**Pergunta:**: O modelo desenvolvido obteve um resultado satisfatório? Justifique:\n",
    "\n",
    "**Resposta**: O modelo desenvolvido poderia performar melhor, os algorítimos escolhidos talvez não tenham sido os mais adequados para o problema, porém com mais desenvolvimento e algum tratamento nos dados poderia ter se comportado melhor."
   ]
  },
  {
   "cell_type": "markdown",
   "metadata": {
    "id": "fGAi3gxnEnBs"
   },
   "source": [
    "**Pergunta:**: O que faria diferente para melhorar resultado obtido? Justifique:\n",
    "\n",
    "**Resposta**: Testaria mais modelos para saber qual perfomaria melhor do que os utilizados.\n",
    "\n",
    "\n",
    "\n",
    "\n"
   ]
  }
 ],
 "metadata": {
  "colab": {
   "name": "CheckPoint.ipynb",
   "provenance": []
  },
  "interpreter": {
   "hash": "916dbcbb3f70747c44a77c7bcd40155683ae19c65e1c03b4aa3499c5328201f1"
  },
  "kernelspec": {
   "display_name": "Python 3 (ipykernel)",
   "language": "python",
   "name": "python3"
  },
  "language_info": {
   "codemirror_mode": {
    "name": "ipython",
    "version": 3
   },
   "file_extension": ".py",
   "mimetype": "text/x-python",
   "name": "python",
   "nbconvert_exporter": "python",
   "pygments_lexer": "ipython3",
   "version": "3.9.7"
  }
 },
 "nbformat": 4,
 "nbformat_minor": 1
}
